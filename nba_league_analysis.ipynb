{
 "cells": [
  {
   "cell_type": "markdown",
   "metadata": {},
   "source": [
    "<h2>This notebook used to analyse the official NBA League statistics.<h2>"
   ]
  },
  {
   "cell_type": "code",
   "execution_count": 32,
   "metadata": {},
   "outputs": [],
   "source": [
    "import pandas as pd\n",
    "from nba_api.stats.endpoints import leaguegamelog\n",
    "from nba_api.stats.static import teams\n",
    "import datetime"
   ]
  },
  {
   "cell_type": "markdown",
   "metadata": {},
   "source": [
    "<h4>Lets make a df contains the games<h4>"
   ]
  },
  {
   "cell_type": "code",
   "execution_count": 33,
   "metadata": {},
   "outputs": [
    {
     "data": {
      "text/html": [
       "<div>\n",
       "<style scoped>\n",
       "    .dataframe tbody tr th:only-of-type {\n",
       "        vertical-align: middle;\n",
       "    }\n",
       "\n",
       "    .dataframe tbody tr th {\n",
       "        vertical-align: top;\n",
       "    }\n",
       "\n",
       "    .dataframe thead th {\n",
       "        text-align: right;\n",
       "    }\n",
       "</style>\n",
       "<table border=\"1\" class=\"dataframe\">\n",
       "  <thead>\n",
       "    <tr style=\"text-align: right;\">\n",
       "      <th></th>\n",
       "      <th>SEASON_ID</th>\n",
       "      <th>TEAM_ID</th>\n",
       "      <th>TEAM_ABBREVIATION</th>\n",
       "      <th>TEAM_NAME</th>\n",
       "      <th>GAME_ID</th>\n",
       "      <th>GAME_DATE</th>\n",
       "      <th>MATCHUP</th>\n",
       "      <th>WL</th>\n",
       "      <th>MIN</th>\n",
       "      <th>FGM</th>\n",
       "      <th>...</th>\n",
       "      <th>DREB_2</th>\n",
       "      <th>REB_2</th>\n",
       "      <th>AST_2</th>\n",
       "      <th>STL_2</th>\n",
       "      <th>BLK_2</th>\n",
       "      <th>TOV_2</th>\n",
       "      <th>PF_2</th>\n",
       "      <th>PTS_2</th>\n",
       "      <th>PLUS_MINUS_2</th>\n",
       "      <th>VIDEO_AVAILABLE_2</th>\n",
       "    </tr>\n",
       "  </thead>\n",
       "  <tbody>\n",
       "    <tr>\n",
       "      <th>0</th>\n",
       "      <td>22021</td>\n",
       "      <td>1610612744</td>\n",
       "      <td>GSW</td>\n",
       "      <td>Golden State Warriors</td>\n",
       "      <td>0022100002</td>\n",
       "      <td>2021-10-19</td>\n",
       "      <td>GSW @ LAL</td>\n",
       "      <td>H</td>\n",
       "      <td>240</td>\n",
       "      <td>41</td>\n",
       "      <td>...</td>\n",
       "      <td>40</td>\n",
       "      <td>45</td>\n",
       "      <td>21</td>\n",
       "      <td>7</td>\n",
       "      <td>4</td>\n",
       "      <td>18</td>\n",
       "      <td>25</td>\n",
       "      <td>114</td>\n",
       "      <td>-7</td>\n",
       "      <td>1</td>\n",
       "    </tr>\n",
       "    <tr>\n",
       "      <th>1</th>\n",
       "      <td>22021</td>\n",
       "      <td>1610612749</td>\n",
       "      <td>MIL</td>\n",
       "      <td>Milwaukee Bucks</td>\n",
       "      <td>0022100001</td>\n",
       "      <td>2021-10-19</td>\n",
       "      <td>MIL vs. BKN</td>\n",
       "      <td>H</td>\n",
       "      <td>240</td>\n",
       "      <td>48</td>\n",
       "      <td>...</td>\n",
       "      <td>39</td>\n",
       "      <td>44</td>\n",
       "      <td>19</td>\n",
       "      <td>3</td>\n",
       "      <td>9</td>\n",
       "      <td>13</td>\n",
       "      <td>17</td>\n",
       "      <td>104</td>\n",
       "      <td>-23</td>\n",
       "      <td>1</td>\n",
       "    </tr>\n",
       "    <tr>\n",
       "      <th>2</th>\n",
       "      <td>22021</td>\n",
       "      <td>1610612754</td>\n",
       "      <td>IND</td>\n",
       "      <td>Indiana Pacers</td>\n",
       "      <td>0022100003</td>\n",
       "      <td>2021-10-20</td>\n",
       "      <td>IND @ CHA</td>\n",
       "      <td>A</td>\n",
       "      <td>240</td>\n",
       "      <td>42</td>\n",
       "      <td>...</td>\n",
       "      <td>34</td>\n",
       "      <td>46</td>\n",
       "      <td>29</td>\n",
       "      <td>9</td>\n",
       "      <td>5</td>\n",
       "      <td>8</td>\n",
       "      <td>21</td>\n",
       "      <td>123</td>\n",
       "      <td>1</td>\n",
       "      <td>1</td>\n",
       "    </tr>\n",
       "    <tr>\n",
       "      <th>3</th>\n",
       "      <td>22021</td>\n",
       "      <td>1610612741</td>\n",
       "      <td>CHI</td>\n",
       "      <td>Chicago Bulls</td>\n",
       "      <td>0022100004</td>\n",
       "      <td>2021-10-20</td>\n",
       "      <td>CHI @ DET</td>\n",
       "      <td>H</td>\n",
       "      <td>240</td>\n",
       "      <td>37</td>\n",
       "      <td>...</td>\n",
       "      <td>36</td>\n",
       "      <td>47</td>\n",
       "      <td>17</td>\n",
       "      <td>7</td>\n",
       "      <td>5</td>\n",
       "      <td>17</td>\n",
       "      <td>16</td>\n",
       "      <td>88</td>\n",
       "      <td>-6</td>\n",
       "      <td>1</td>\n",
       "    </tr>\n",
       "    <tr>\n",
       "      <th>4</th>\n",
       "      <td>22021</td>\n",
       "      <td>1610612761</td>\n",
       "      <td>TOR</td>\n",
       "      <td>Toronto Raptors</td>\n",
       "      <td>0022100006</td>\n",
       "      <td>2021-10-20</td>\n",
       "      <td>TOR vs. WAS</td>\n",
       "      <td>A</td>\n",
       "      <td>240</td>\n",
       "      <td>30</td>\n",
       "      <td>...</td>\n",
       "      <td>44</td>\n",
       "      <td>51</td>\n",
       "      <td>20</td>\n",
       "      <td>14</td>\n",
       "      <td>8</td>\n",
       "      <td>22</td>\n",
       "      <td>17</td>\n",
       "      <td>98</td>\n",
       "      <td>15</td>\n",
       "      <td>1</td>\n",
       "    </tr>\n",
       "  </tbody>\n",
       "</table>\n",
       "<p>5 rows × 58 columns</p>\n",
       "</div>"
      ],
      "text/plain": [
       "  SEASON_ID     TEAM_ID TEAM_ABBREVIATION              TEAM_NAME     GAME_ID  \\\n",
       "0     22021  1610612744               GSW  Golden State Warriors  0022100002   \n",
       "1     22021  1610612749               MIL        Milwaukee Bucks  0022100001   \n",
       "2     22021  1610612754               IND         Indiana Pacers  0022100003   \n",
       "3     22021  1610612741               CHI          Chicago Bulls  0022100004   \n",
       "4     22021  1610612761               TOR        Toronto Raptors  0022100006   \n",
       "\n",
       "    GAME_DATE      MATCHUP WL  MIN  FGM  ...  DREB_2  REB_2  AST_2  STL_2  \\\n",
       "0  2021-10-19    GSW @ LAL  H  240   41  ...      40     45     21      7   \n",
       "1  2021-10-19  MIL vs. BKN  H  240   48  ...      39     44     19      3   \n",
       "2  2021-10-20    IND @ CHA  A  240   42  ...      34     46     29      9   \n",
       "3  2021-10-20    CHI @ DET  H  240   37  ...      36     47     17      7   \n",
       "4  2021-10-20  TOR vs. WAS  A  240   30  ...      44     51     20     14   \n",
       "\n",
       "   BLK_2  TOV_2  PF_2  PTS_2  PLUS_MINUS_2  VIDEO_AVAILABLE_2  \n",
       "0      4     18    25    114            -7                  1  \n",
       "1      9     13    17    104           -23                  1  \n",
       "2      5      8    21    123             1                  1  \n",
       "3      5     17    16     88            -6                  1  \n",
       "4      8     22    17     98            15                  1  \n",
       "\n",
       "[5 rows x 58 columns]"
      ]
     },
     "execution_count": 33,
     "metadata": {},
     "output_type": "execute_result"
    }
   ],
   "source": [
    "log = leaguegamelog.LeagueGameLog().get_normalized_dict()['LeagueGameLog']\n",
    "\n",
    "df1 = pd.DataFrame(log[::2])\n",
    "df2 =  pd.DataFrame(log[1::2])\n",
    "df2.columns = [f\"{column}_2\" for column in df2.columns]\n",
    "\n",
    "all_games = df1.join(df2)\n",
    "all_games['WL'] = all_games['WL'].map(lambda x: 'H' if x == 'W' else 'A')\n",
    "all_games.head()"
   ]
  },
  {
   "cell_type": "markdown",
   "metadata": {},
   "source": [
    "<h4>Pick some useful data to train a model<h4>"
   ]
  },
  {
   "cell_type": "code",
   "execution_count": 44,
   "metadata": {},
   "outputs": [
    {
     "name": "stderr",
     "output_type": "stream",
     "text": [
      "C:\\Users\\milan\\AppData\\Local\\Temp/ipykernel_6944/863627650.py:2: SettingWithCopyWarning: \n",
      "A value is trying to be set on a copy of a slice from a DataFrame.\n",
      "Try using .loc[row_indexer,col_indexer] = value instead\n",
      "\n",
      "See the caveats in the documentation: https://pandas.pydata.org/pandas-docs/stable/user_guide/indexing.html#returning-a-view-versus-a-copy\n",
      "  all_games_useful['GAME_DATE'] = pd.to_datetime(all_games_useful['GAME_DATE'], format=\"%Y-%m-%d\")\n",
      "C:\\Users\\milan\\AppData\\Local\\Temp/ipykernel_6944/863627650.py:3: SettingWithCopyWarning: \n",
      "A value is trying to be set on a copy of a slice from a DataFrame.\n",
      "Try using .loc[row_indexer,col_indexer] = value instead\n",
      "\n",
      "See the caveats in the documentation: https://pandas.pydata.org/pandas-docs/stable/user_guide/indexing.html#returning-a-view-versus-a-copy\n",
      "  all_games_useful['day_in_month'] = all_games_useful['GAME_DATE'].map(lambda x: x.strftime(\"%d\"))\n",
      "C:\\Users\\milan\\AppData\\Local\\Temp/ipykernel_6944/863627650.py:4: SettingWithCopyWarning: \n",
      "A value is trying to be set on a copy of a slice from a DataFrame.\n",
      "Try using .loc[row_indexer,col_indexer] = value instead\n",
      "\n",
      "See the caveats in the documentation: https://pandas.pydata.org/pandas-docs/stable/user_guide/indexing.html#returning-a-view-versus-a-copy\n",
      "  all_games_useful['day_in_week'] = all_games_useful['GAME_DATE'].map(lambda x: x.strftime(\"%w\"))\n"
     ]
    },
    {
     "data": {
      "text/html": [
       "<div>\n",
       "<style scoped>\n",
       "    .dataframe tbody tr th:only-of-type {\n",
       "        vertical-align: middle;\n",
       "    }\n",
       "\n",
       "    .dataframe tbody tr th {\n",
       "        vertical-align: top;\n",
       "    }\n",
       "\n",
       "    .dataframe thead th {\n",
       "        text-align: right;\n",
       "    }\n",
       "</style>\n",
       "<table border=\"1\" class=\"dataframe\">\n",
       "  <thead>\n",
       "    <tr style=\"text-align: right;\">\n",
       "      <th></th>\n",
       "      <th>TEAM_ID</th>\n",
       "      <th>TEAM_ID_2</th>\n",
       "      <th>GAME_DATE</th>\n",
       "      <th>WL</th>\n",
       "      <th>day_in_month</th>\n",
       "      <th>day_in_week</th>\n",
       "    </tr>\n",
       "  </thead>\n",
       "  <tbody>\n",
       "    <tr>\n",
       "      <th>0</th>\n",
       "      <td>1610612744</td>\n",
       "      <td>1610612747</td>\n",
       "      <td>2021-10-19</td>\n",
       "      <td>H</td>\n",
       "      <td>19</td>\n",
       "      <td>2</td>\n",
       "    </tr>\n",
       "    <tr>\n",
       "      <th>1</th>\n",
       "      <td>1610612749</td>\n",
       "      <td>1610612751</td>\n",
       "      <td>2021-10-19</td>\n",
       "      <td>H</td>\n",
       "      <td>19</td>\n",
       "      <td>2</td>\n",
       "    </tr>\n",
       "    <tr>\n",
       "      <th>2</th>\n",
       "      <td>1610612754</td>\n",
       "      <td>1610612766</td>\n",
       "      <td>2021-10-20</td>\n",
       "      <td>A</td>\n",
       "      <td>20</td>\n",
       "      <td>3</td>\n",
       "    </tr>\n",
       "    <tr>\n",
       "      <th>3</th>\n",
       "      <td>1610612741</td>\n",
       "      <td>1610612765</td>\n",
       "      <td>2021-10-20</td>\n",
       "      <td>H</td>\n",
       "      <td>20</td>\n",
       "      <td>3</td>\n",
       "    </tr>\n",
       "    <tr>\n",
       "      <th>4</th>\n",
       "      <td>1610612761</td>\n",
       "      <td>1610612764</td>\n",
       "      <td>2021-10-20</td>\n",
       "      <td>A</td>\n",
       "      <td>20</td>\n",
       "      <td>3</td>\n",
       "    </tr>\n",
       "    <tr>\n",
       "      <th>5</th>\n",
       "      <td>1610612740</td>\n",
       "      <td>1610612755</td>\n",
       "      <td>2021-10-20</td>\n",
       "      <td>A</td>\n",
       "      <td>20</td>\n",
       "      <td>3</td>\n",
       "    </tr>\n",
       "    <tr>\n",
       "      <th>6</th>\n",
       "      <td>1610612763</td>\n",
       "      <td>1610612739</td>\n",
       "      <td>2021-10-20</td>\n",
       "      <td>H</td>\n",
       "      <td>20</td>\n",
       "      <td>3</td>\n",
       "    </tr>\n",
       "    <tr>\n",
       "      <th>7</th>\n",
       "      <td>1610612750</td>\n",
       "      <td>1610612745</td>\n",
       "      <td>2021-10-20</td>\n",
       "      <td>H</td>\n",
       "      <td>20</td>\n",
       "      <td>3</td>\n",
       "    </tr>\n",
       "    <tr>\n",
       "      <th>8</th>\n",
       "      <td>1610612752</td>\n",
       "      <td>1610612738</td>\n",
       "      <td>2021-10-20</td>\n",
       "      <td>H</td>\n",
       "      <td>20</td>\n",
       "      <td>3</td>\n",
       "    </tr>\n",
       "    <tr>\n",
       "      <th>9</th>\n",
       "      <td>1610612753</td>\n",
       "      <td>1610612759</td>\n",
       "      <td>2021-10-20</td>\n",
       "      <td>A</td>\n",
       "      <td>20</td>\n",
       "      <td>3</td>\n",
       "    </tr>\n",
       "  </tbody>\n",
       "</table>\n",
       "</div>"
      ],
      "text/plain": [
       "      TEAM_ID   TEAM_ID_2  GAME_DATE WL day_in_month day_in_week\n",
       "0  1610612744  1610612747 2021-10-19  H           19           2\n",
       "1  1610612749  1610612751 2021-10-19  H           19           2\n",
       "2  1610612754  1610612766 2021-10-20  A           20           3\n",
       "3  1610612741  1610612765 2021-10-20  H           20           3\n",
       "4  1610612761  1610612764 2021-10-20  A           20           3\n",
       "5  1610612740  1610612755 2021-10-20  A           20           3\n",
       "6  1610612763  1610612739 2021-10-20  H           20           3\n",
       "7  1610612750  1610612745 2021-10-20  H           20           3\n",
       "8  1610612752  1610612738 2021-10-20  H           20           3\n",
       "9  1610612753  1610612759 2021-10-20  A           20           3"
      ]
     },
     "execution_count": 44,
     "metadata": {},
     "output_type": "execute_result"
    }
   ],
   "source": [
    "all_games_useful = all_games[['TEAM_ID','TEAM_ID_2','GAME_DATE','WL']]\n",
    "all_games_useful['GAME_DATE'] = pd.to_datetime(all_games_useful['GAME_DATE'], format=\"%Y-%m-%d\")\n",
    "all_games_useful['day_in_month'] = all_games_useful['GAME_DATE'].map(lambda x: x.strftime(\"%d\"))\n",
    "all_games_useful['day_in_week'] = all_games_useful['GAME_DATE'].map(lambda x: x.strftime(\"%w\"))\n",
    "all_games_useful.head(10)"
   ]
  },
  {
   "cell_type": "markdown",
   "metadata": {},
   "source": [
    "<h4>Split to train and test<h4>"
   ]
  },
  {
   "cell_type": "code",
   "execution_count": 45,
   "metadata": {},
   "outputs": [],
   "source": [
    "X = all_games_useful[['TEAM_ID','TEAM_ID_2','day_in_month', 'day_in_week']]\n",
    "y = all_games_useful[['WL']]"
   ]
  },
  {
   "cell_type": "code",
   "execution_count": 24,
   "metadata": {},
   "outputs": [],
   "source": [
    "from sklearn.model_selection import train_test_split"
   ]
  },
  {
   "cell_type": "code",
   "execution_count": 25,
   "metadata": {},
   "outputs": [],
   "source": [
    "X_train, X_test, y_train, y_test = train_test_split(X, y, test_size=0.33, random_state=42)"
   ]
  },
  {
   "cell_type": "markdown",
   "metadata": {},
   "source": [
    "<h4>Build a model and fit with the values<h4>"
   ]
  },
  {
   "cell_type": "code",
   "execution_count": 26,
   "metadata": {},
   "outputs": [],
   "source": [
    "from sklearn.neighbors import KNeighborsClassifier"
   ]
  },
  {
   "cell_type": "code",
   "execution_count": 27,
   "metadata": {},
   "outputs": [
    {
     "name": "stderr",
     "output_type": "stream",
     "text": [
      "C:\\Users\\milan\\.virtualenvs\\prog_fileok-u0ABPTBr\\lib\\site-packages\\sklearn\\neighbors\\_classification.py:198: DataConversionWarning: A column-vector y was passed when a 1d array was expected. Please change the shape of y to (n_samples,), for example using ravel().\n",
      "  return self._fit(X, y)\n"
     ]
    }
   ],
   "source": [
    "model_knn = KNeighborsClassifier(n_neighbors=3).fit(X_train,y_train)"
   ]
  },
  {
   "cell_type": "markdown",
   "metadata": {},
   "source": [
    "<h4>Get the team ids and the date(day)<h4>"
   ]
  },
  {
   "cell_type": "code",
   "execution_count": 29,
   "metadata": {},
   "outputs": [],
   "source": [
    "team_1 = teams.find_teams_by_full_name(\"Denver Nugets\")\n",
    "team_2 = teams.find_teams_by_full_name(\"GoldenState Warriors\")\n",
    "date_day = datetime.now()"
   ]
  },
  {
   "cell_type": "code",
   "execution_count": null,
   "metadata": {},
   "outputs": [],
   "source": [
    "model_knn.predict([])"
   ]
  },
  {
   "cell_type": "code",
   "execution_count": 1,
   "metadata": {},
   "outputs": [],
   "source": [
    "import nba_analysis_helpers as test"
   ]
  },
  {
   "cell_type": "code",
   "execution_count": 2,
   "metadata": {},
   "outputs": [],
   "source": [
    "s = test.get_team_log(\"Denver Nuggets\")"
   ]
  },
  {
   "cell_type": "code",
   "execution_count": null,
   "metadata": {},
   "outputs": [],
   "source": []
  }
 ],
 "metadata": {
  "interpreter": {
   "hash": "0a672e6809f1de3c4983ec870b981d5a1be8899251ed1917ba5b59e133f6dd6c"
  },
  "kernelspec": {
   "display_name": "Python 3.9.1 64-bit ('prog_fileok-u0ABPTBr': pipenv)",
   "language": "python",
   "name": "python3"
  },
  "language_info": {
   "codemirror_mode": {
    "name": "ipython",
    "version": 3
   },
   "file_extension": ".py",
   "mimetype": "text/x-python",
   "name": "python",
   "nbconvert_exporter": "python",
   "pygments_lexer": "ipython3",
   "version": "3.9.1"
  },
  "orig_nbformat": 4
 },
 "nbformat": 4,
 "nbformat_minor": 2
}
