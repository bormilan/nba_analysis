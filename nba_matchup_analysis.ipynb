{
 "cells": [
  {
   "cell_type": "markdown",
   "metadata": {},
   "source": [
    "<h1>Analysis of a specific matchup<h1>"
   ]
  },
  {
   "cell_type": "markdown",
   "metadata": {},
   "source": [
    "0. Imports"
   ]
  },
  {
   "cell_type": "code",
   "execution_count": 33,
   "metadata": {},
   "outputs": [],
   "source": [
    "import pandas as pd\n",
    "from nba_api.stats.endpoints import teamgamelog\n",
    "from nba_api.stats.static import teams\n",
    "import matplotlib.pyplot as plt\n",
    "from sklearn.linear_model import LinearRegression\n",
    "import numpy as np\n",
    "import plotly.express as px\n",
    "import plotly.graph_objects as go\n",
    "import nba_analysis_helpers as methods\n",
    "from plotly.subplots import make_subplots"
   ]
  },
  {
   "cell_type": "markdown",
   "metadata": {},
   "source": [
    "<h2>Team parameters<h2>"
   ]
  },
  {
   "cell_type": "code",
   "execution_count": 34,
   "metadata": {},
   "outputs": [],
   "source": [
    "team_1 = \"Golden State Warriors\"\n",
    "team_2 = \"Denver Nuggets\""
   ]
  },
  {
   "cell_type": "markdown",
   "metadata": {},
   "source": [
    "<h2>Make prepared logs for the teams<h2>"
   ]
  },
  {
   "cell_type": "code",
   "execution_count": 35,
   "metadata": {},
   "outputs": [],
   "source": [
    "log_1 = methods.prepare_data(methods.get_team_log(team_1))\n",
    "log_2 = methods.prepare_data(methods.get_team_log(team_2))\n"
   ]
  },
  {
   "cell_type": "markdown",
   "metadata": {},
   "source": [
    "<h3>Here some plot about te teams ponts:<h3>"
   ]
  },
  {
   "cell_type": "code",
   "execution_count": 36,
   "metadata": {},
   "outputs": [
    {
     "data": {
      "application/vnd.plotly.v1+json": {
       "config": {
        "plotlyServerURL": "https://plot.ly"
       },
       "data": [
        {
         "name": "Golden State Warriors points",
         "type": "scatter",
         "x": [
          0,
          1,
          2,
          3,
          4,
          5,
          6,
          7,
          8,
          9,
          10,
          11,
          12,
          13,
          14,
          15,
          16,
          17,
          18,
          19,
          20,
          21,
          22,
          23,
          24,
          25,
          26,
          27,
          28,
          29,
          30,
          31,
          32,
          33
         ],
         "xaxis": "x",
         "y": [
          121,
          115,
          119,
          106,
          101,
          103,
          114,
          126,
          120,
          127,
          123,
          119,
          102,
          117,
          104,
          105,
          119,
          116,
          118,
          105,
          96,
          118,
          107,
          126,
          104,
          93,
          102,
          105,
          111,
          100,
          113,
          113,
          116,
          86
         ],
         "yaxis": "y"
        },
        {
         "name": "Denver Nuggets points",
         "type": "scatter",
         "x": [
          0,
          1,
          2,
          3,
          4,
          5,
          6,
          7,
          8,
          9,
          10,
          11,
          12,
          13,
          14,
          15,
          16,
          17,
          18,
          19,
          20,
          21,
          22,
          23,
          24,
          25,
          26,
          27,
          28,
          29,
          30,
          31,
          32
         ],
         "xaxis": "x2",
         "y": [
          110,
          102,
          87,
          110,
          106,
          93,
          97,
          106,
          95,
          113,
          101,
          105,
          124,
          101,
          89,
          108,
          97,
          100,
          109,
          120,
          103,
          113,
          97,
          120,
          111,
          127,
          113,
          107,
          133,
          94,
          107,
          103,
          89
         ],
         "yaxis": "y2"
        },
        {
         "name": "Golden State Warriors points trend",
         "type": "scatter",
         "x": [
          0,
          1,
          2,
          3,
          4,
          5,
          6,
          7,
          8,
          9,
          10,
          11,
          12,
          13,
          14,
          15,
          16,
          17,
          18,
          19,
          20,
          21,
          22,
          23,
          24,
          25,
          26,
          27,
          28,
          29,
          30,
          31,
          32,
          33,
          34,
          35,
          36,
          37,
          38
         ],
         "xaxis": "x",
         "y": [
          117.0689075630252,
          116.69396485867074,
          116.31902215431627,
          115.9440794499618,
          115.56913674560732,
          115.19419404125286,
          114.81925133689839,
          114.44430863254392,
          114.06936592818946,
          113.69442322383499,
          113.31948051948052,
          112.94453781512604,
          112.56959511077157,
          112.1946524064171,
          111.81970970206264,
          111.44476699770817,
          111.0698242933537,
          110.69488158899924,
          110.31993888464476,
          109.94499618029029,
          109.57005347593582,
          109.19511077158135,
          108.82016806722689,
          108.44522536287242,
          108.07028265851795,
          107.69533995416347,
          107.320397249809,
          106.94545454545454,
          106.57051184110007,
          106.1955691367456,
          105.82062643239114,
          105.44568372803667,
          105.07074102368219,
          104.69579831932772,
          104.32085561497325,
          103.94591291061879,
          103.57097020626432,
          103.19602750190985,
          102.82108479755539
         ],
         "yaxis": "y"
        },
        {
         "name": "Denver Nuggets points trend",
         "type": "scatter",
         "x": [
          0,
          1,
          2,
          3,
          4,
          5,
          6,
          7,
          8,
          9,
          10,
          11,
          12,
          13,
          14,
          15,
          16,
          17,
          18,
          19,
          20,
          21,
          22,
          23,
          24,
          25,
          26,
          27,
          28,
          29,
          30,
          31,
          32,
          33,
          34,
          35,
          36,
          37
         ],
         "xaxis": "x2",
         "y": [
          101.60784313725489,
          101.86720142602495,
          102.126559714795,
          102.38591800356505,
          102.6452762923351,
          102.90463458110516,
          103.16399286987522,
          103.42335115864526,
          103.68270944741532,
          103.94206773618536,
          104.20142602495542,
          104.46078431372548,
          104.72014260249553,
          104.97950089126559,
          105.23885918003563,
          105.49821746880569,
          105.75757575757575,
          106.0169340463458,
          106.27629233511585,
          106.5356506238859,
          106.79500891265596,
          107.05436720142602,
          107.31372549019606,
          107.57308377896612,
          107.83244206773617,
          108.09180035650623,
          108.35115864527629,
          108.61051693404633,
          108.86987522281639,
          109.12923351158643,
          109.3885918003565,
          109.64795008912655,
          109.9073083778966,
          110.16666666666666,
          110.4260249554367,
          110.68538324420676,
          110.94474153297682,
          111.20409982174687
         ],
         "yaxis": "y2"
        }
       ],
       "layout": {
        "annotations": [
         {
          "font": {
           "size": 16
          },
          "showarrow": false,
          "text": "Golden State Warriors",
          "x": 0.225,
          "xanchor": "center",
          "xref": "paper",
          "y": 1,
          "yanchor": "bottom",
          "yref": "paper"
         },
         {
          "font": {
           "size": 16
          },
          "showarrow": false,
          "text": "Denver Nuggets",
          "x": 0.775,
          "xanchor": "center",
          "xref": "paper",
          "y": 1,
          "yanchor": "bottom",
          "yref": "paper"
         }
        ],
        "template": {
         "data": {
          "bar": [
           {
            "error_x": {
             "color": "#2a3f5f"
            },
            "error_y": {
             "color": "#2a3f5f"
            },
            "marker": {
             "line": {
              "color": "#E5ECF6",
              "width": 0.5
             },
             "pattern": {
              "fillmode": "overlay",
              "size": 10,
              "solidity": 0.2
             }
            },
            "type": "bar"
           }
          ],
          "barpolar": [
           {
            "marker": {
             "line": {
              "color": "#E5ECF6",
              "width": 0.5
             },
             "pattern": {
              "fillmode": "overlay",
              "size": 10,
              "solidity": 0.2
             }
            },
            "type": "barpolar"
           }
          ],
          "carpet": [
           {
            "aaxis": {
             "endlinecolor": "#2a3f5f",
             "gridcolor": "white",
             "linecolor": "white",
             "minorgridcolor": "white",
             "startlinecolor": "#2a3f5f"
            },
            "baxis": {
             "endlinecolor": "#2a3f5f",
             "gridcolor": "white",
             "linecolor": "white",
             "minorgridcolor": "white",
             "startlinecolor": "#2a3f5f"
            },
            "type": "carpet"
           }
          ],
          "choropleth": [
           {
            "colorbar": {
             "outlinewidth": 0,
             "ticks": ""
            },
            "type": "choropleth"
           }
          ],
          "contour": [
           {
            "colorbar": {
             "outlinewidth": 0,
             "ticks": ""
            },
            "colorscale": [
             [
              0,
              "#0d0887"
             ],
             [
              0.1111111111111111,
              "#46039f"
             ],
             [
              0.2222222222222222,
              "#7201a8"
             ],
             [
              0.3333333333333333,
              "#9c179e"
             ],
             [
              0.4444444444444444,
              "#bd3786"
             ],
             [
              0.5555555555555556,
              "#d8576b"
             ],
             [
              0.6666666666666666,
              "#ed7953"
             ],
             [
              0.7777777777777778,
              "#fb9f3a"
             ],
             [
              0.8888888888888888,
              "#fdca26"
             ],
             [
              1,
              "#f0f921"
             ]
            ],
            "type": "contour"
           }
          ],
          "contourcarpet": [
           {
            "colorbar": {
             "outlinewidth": 0,
             "ticks": ""
            },
            "type": "contourcarpet"
           }
          ],
          "heatmap": [
           {
            "colorbar": {
             "outlinewidth": 0,
             "ticks": ""
            },
            "colorscale": [
             [
              0,
              "#0d0887"
             ],
             [
              0.1111111111111111,
              "#46039f"
             ],
             [
              0.2222222222222222,
              "#7201a8"
             ],
             [
              0.3333333333333333,
              "#9c179e"
             ],
             [
              0.4444444444444444,
              "#bd3786"
             ],
             [
              0.5555555555555556,
              "#d8576b"
             ],
             [
              0.6666666666666666,
              "#ed7953"
             ],
             [
              0.7777777777777778,
              "#fb9f3a"
             ],
             [
              0.8888888888888888,
              "#fdca26"
             ],
             [
              1,
              "#f0f921"
             ]
            ],
            "type": "heatmap"
           }
          ],
          "heatmapgl": [
           {
            "colorbar": {
             "outlinewidth": 0,
             "ticks": ""
            },
            "colorscale": [
             [
              0,
              "#0d0887"
             ],
             [
              0.1111111111111111,
              "#46039f"
             ],
             [
              0.2222222222222222,
              "#7201a8"
             ],
             [
              0.3333333333333333,
              "#9c179e"
             ],
             [
              0.4444444444444444,
              "#bd3786"
             ],
             [
              0.5555555555555556,
              "#d8576b"
             ],
             [
              0.6666666666666666,
              "#ed7953"
             ],
             [
              0.7777777777777778,
              "#fb9f3a"
             ],
             [
              0.8888888888888888,
              "#fdca26"
             ],
             [
              1,
              "#f0f921"
             ]
            ],
            "type": "heatmapgl"
           }
          ],
          "histogram": [
           {
            "marker": {
             "pattern": {
              "fillmode": "overlay",
              "size": 10,
              "solidity": 0.2
             }
            },
            "type": "histogram"
           }
          ],
          "histogram2d": [
           {
            "colorbar": {
             "outlinewidth": 0,
             "ticks": ""
            },
            "colorscale": [
             [
              0,
              "#0d0887"
             ],
             [
              0.1111111111111111,
              "#46039f"
             ],
             [
              0.2222222222222222,
              "#7201a8"
             ],
             [
              0.3333333333333333,
              "#9c179e"
             ],
             [
              0.4444444444444444,
              "#bd3786"
             ],
             [
              0.5555555555555556,
              "#d8576b"
             ],
             [
              0.6666666666666666,
              "#ed7953"
             ],
             [
              0.7777777777777778,
              "#fb9f3a"
             ],
             [
              0.8888888888888888,
              "#fdca26"
             ],
             [
              1,
              "#f0f921"
             ]
            ],
            "type": "histogram2d"
           }
          ],
          "histogram2dcontour": [
           {
            "colorbar": {
             "outlinewidth": 0,
             "ticks": ""
            },
            "colorscale": [
             [
              0,
              "#0d0887"
             ],
             [
              0.1111111111111111,
              "#46039f"
             ],
             [
              0.2222222222222222,
              "#7201a8"
             ],
             [
              0.3333333333333333,
              "#9c179e"
             ],
             [
              0.4444444444444444,
              "#bd3786"
             ],
             [
              0.5555555555555556,
              "#d8576b"
             ],
             [
              0.6666666666666666,
              "#ed7953"
             ],
             [
              0.7777777777777778,
              "#fb9f3a"
             ],
             [
              0.8888888888888888,
              "#fdca26"
             ],
             [
              1,
              "#f0f921"
             ]
            ],
            "type": "histogram2dcontour"
           }
          ],
          "mesh3d": [
           {
            "colorbar": {
             "outlinewidth": 0,
             "ticks": ""
            },
            "type": "mesh3d"
           }
          ],
          "parcoords": [
           {
            "line": {
             "colorbar": {
              "outlinewidth": 0,
              "ticks": ""
             }
            },
            "type": "parcoords"
           }
          ],
          "pie": [
           {
            "automargin": true,
            "type": "pie"
           }
          ],
          "scatter": [
           {
            "marker": {
             "colorbar": {
              "outlinewidth": 0,
              "ticks": ""
             }
            },
            "type": "scatter"
           }
          ],
          "scatter3d": [
           {
            "line": {
             "colorbar": {
              "outlinewidth": 0,
              "ticks": ""
             }
            },
            "marker": {
             "colorbar": {
              "outlinewidth": 0,
              "ticks": ""
             }
            },
            "type": "scatter3d"
           }
          ],
          "scattercarpet": [
           {
            "marker": {
             "colorbar": {
              "outlinewidth": 0,
              "ticks": ""
             }
            },
            "type": "scattercarpet"
           }
          ],
          "scattergeo": [
           {
            "marker": {
             "colorbar": {
              "outlinewidth": 0,
              "ticks": ""
             }
            },
            "type": "scattergeo"
           }
          ],
          "scattergl": [
           {
            "marker": {
             "colorbar": {
              "outlinewidth": 0,
              "ticks": ""
             }
            },
            "type": "scattergl"
           }
          ],
          "scattermapbox": [
           {
            "marker": {
             "colorbar": {
              "outlinewidth": 0,
              "ticks": ""
             }
            },
            "type": "scattermapbox"
           }
          ],
          "scatterpolar": [
           {
            "marker": {
             "colorbar": {
              "outlinewidth": 0,
              "ticks": ""
             }
            },
            "type": "scatterpolar"
           }
          ],
          "scatterpolargl": [
           {
            "marker": {
             "colorbar": {
              "outlinewidth": 0,
              "ticks": ""
             }
            },
            "type": "scatterpolargl"
           }
          ],
          "scatterternary": [
           {
            "marker": {
             "colorbar": {
              "outlinewidth": 0,
              "ticks": ""
             }
            },
            "type": "scatterternary"
           }
          ],
          "surface": [
           {
            "colorbar": {
             "outlinewidth": 0,
             "ticks": ""
            },
            "colorscale": [
             [
              0,
              "#0d0887"
             ],
             [
              0.1111111111111111,
              "#46039f"
             ],
             [
              0.2222222222222222,
              "#7201a8"
             ],
             [
              0.3333333333333333,
              "#9c179e"
             ],
             [
              0.4444444444444444,
              "#bd3786"
             ],
             [
              0.5555555555555556,
              "#d8576b"
             ],
             [
              0.6666666666666666,
              "#ed7953"
             ],
             [
              0.7777777777777778,
              "#fb9f3a"
             ],
             [
              0.8888888888888888,
              "#fdca26"
             ],
             [
              1,
              "#f0f921"
             ]
            ],
            "type": "surface"
           }
          ],
          "table": [
           {
            "cells": {
             "fill": {
              "color": "#EBF0F8"
             },
             "line": {
              "color": "white"
             }
            },
            "header": {
             "fill": {
              "color": "#C8D4E3"
             },
             "line": {
              "color": "white"
             }
            },
            "type": "table"
           }
          ]
         },
         "layout": {
          "annotationdefaults": {
           "arrowcolor": "#2a3f5f",
           "arrowhead": 0,
           "arrowwidth": 1
          },
          "autotypenumbers": "strict",
          "coloraxis": {
           "colorbar": {
            "outlinewidth": 0,
            "ticks": ""
           }
          },
          "colorscale": {
           "diverging": [
            [
             0,
             "#8e0152"
            ],
            [
             0.1,
             "#c51b7d"
            ],
            [
             0.2,
             "#de77ae"
            ],
            [
             0.3,
             "#f1b6da"
            ],
            [
             0.4,
             "#fde0ef"
            ],
            [
             0.5,
             "#f7f7f7"
            ],
            [
             0.6,
             "#e6f5d0"
            ],
            [
             0.7,
             "#b8e186"
            ],
            [
             0.8,
             "#7fbc41"
            ],
            [
             0.9,
             "#4d9221"
            ],
            [
             1,
             "#276419"
            ]
           ],
           "sequential": [
            [
             0,
             "#0d0887"
            ],
            [
             0.1111111111111111,
             "#46039f"
            ],
            [
             0.2222222222222222,
             "#7201a8"
            ],
            [
             0.3333333333333333,
             "#9c179e"
            ],
            [
             0.4444444444444444,
             "#bd3786"
            ],
            [
             0.5555555555555556,
             "#d8576b"
            ],
            [
             0.6666666666666666,
             "#ed7953"
            ],
            [
             0.7777777777777778,
             "#fb9f3a"
            ],
            [
             0.8888888888888888,
             "#fdca26"
            ],
            [
             1,
             "#f0f921"
            ]
           ],
           "sequentialminus": [
            [
             0,
             "#0d0887"
            ],
            [
             0.1111111111111111,
             "#46039f"
            ],
            [
             0.2222222222222222,
             "#7201a8"
            ],
            [
             0.3333333333333333,
             "#9c179e"
            ],
            [
             0.4444444444444444,
             "#bd3786"
            ],
            [
             0.5555555555555556,
             "#d8576b"
            ],
            [
             0.6666666666666666,
             "#ed7953"
            ],
            [
             0.7777777777777778,
             "#fb9f3a"
            ],
            [
             0.8888888888888888,
             "#fdca26"
            ],
            [
             1,
             "#f0f921"
            ]
           ]
          },
          "colorway": [
           "#636efa",
           "#EF553B",
           "#00cc96",
           "#ab63fa",
           "#FFA15A",
           "#19d3f3",
           "#FF6692",
           "#B6E880",
           "#FF97FF",
           "#FECB52"
          ],
          "font": {
           "color": "#2a3f5f"
          },
          "geo": {
           "bgcolor": "white",
           "lakecolor": "white",
           "landcolor": "#E5ECF6",
           "showlakes": true,
           "showland": true,
           "subunitcolor": "white"
          },
          "hoverlabel": {
           "align": "left"
          },
          "hovermode": "closest",
          "mapbox": {
           "style": "light"
          },
          "paper_bgcolor": "white",
          "plot_bgcolor": "#E5ECF6",
          "polar": {
           "angularaxis": {
            "gridcolor": "white",
            "linecolor": "white",
            "ticks": ""
           },
           "bgcolor": "#E5ECF6",
           "radialaxis": {
            "gridcolor": "white",
            "linecolor": "white",
            "ticks": ""
           }
          },
          "scene": {
           "xaxis": {
            "backgroundcolor": "#E5ECF6",
            "gridcolor": "white",
            "gridwidth": 2,
            "linecolor": "white",
            "showbackground": true,
            "ticks": "",
            "zerolinecolor": "white"
           },
           "yaxis": {
            "backgroundcolor": "#E5ECF6",
            "gridcolor": "white",
            "gridwidth": 2,
            "linecolor": "white",
            "showbackground": true,
            "ticks": "",
            "zerolinecolor": "white"
           },
           "zaxis": {
            "backgroundcolor": "#E5ECF6",
            "gridcolor": "white",
            "gridwidth": 2,
            "linecolor": "white",
            "showbackground": true,
            "ticks": "",
            "zerolinecolor": "white"
           }
          },
          "shapedefaults": {
           "line": {
            "color": "#2a3f5f"
           }
          },
          "ternary": {
           "aaxis": {
            "gridcolor": "white",
            "linecolor": "white",
            "ticks": ""
           },
           "baxis": {
            "gridcolor": "white",
            "linecolor": "white",
            "ticks": ""
           },
           "bgcolor": "#E5ECF6",
           "caxis": {
            "gridcolor": "white",
            "linecolor": "white",
            "ticks": ""
           }
          },
          "title": {
           "x": 0.05
          },
          "xaxis": {
           "automargin": true,
           "gridcolor": "white",
           "linecolor": "white",
           "ticks": "",
           "title": {
            "standoff": 15
           },
           "zerolinecolor": "white",
           "zerolinewidth": 2
          },
          "yaxis": {
           "automargin": true,
           "gridcolor": "white",
           "linecolor": "white",
           "ticks": "",
           "title": {
            "standoff": 15
           },
           "zerolinecolor": "white",
           "zerolinewidth": 2
          }
         }
        },
        "title": {
         "text": "Comparasion of Golden State Warriors and Denver Nuggets scored points from this season."
        },
        "xaxis": {
         "anchor": "y",
         "domain": [
          0,
          0.45
         ]
        },
        "xaxis2": {
         "anchor": "y2",
         "domain": [
          0.55,
          1
         ]
        },
        "yaxis": {
         "anchor": "x",
         "domain": [
          0,
          1
         ]
        },
        "yaxis2": {
         "anchor": "x2",
         "domain": [
          0,
          1
         ],
         "matches": "y",
         "showticklabels": false
        }
       }
      }
     },
     "metadata": {},
     "output_type": "display_data"
    }
   ],
   "source": [
    "methods.make_subplot(log_1,log_2,team_1,team_2,'PTS')"
   ]
  },
  {
   "cell_type": "markdown",
   "metadata": {},
   "source": []
  },
  {
   "cell_type": "code",
   "execution_count": 37,
   "metadata": {},
   "outputs": [
    {
     "data": {
      "application/vnd.plotly.v1+json": {
       "config": {
        "plotlyServerURL": "https://plot.ly"
       },
       "data": [
        {
         "name": "Golden State Warriors points",
         "type": "box",
         "xaxis": "x",
         "y": [
          121,
          115,
          119,
          106,
          101,
          103,
          114,
          126,
          120,
          127,
          123,
          119,
          102,
          117,
          104,
          105,
          119,
          116,
          118,
          105,
          96,
          118,
          107,
          126,
          104,
          93,
          102,
          105,
          111,
          100,
          113,
          113,
          116,
          86
         ],
         "yaxis": "y"
        },
        {
         "name": "Denver Nuggets points",
         "type": "box",
         "xaxis": "x2",
         "y": [
          110,
          102,
          87,
          110,
          106,
          93,
          97,
          106,
          95,
          113,
          101,
          105,
          124,
          101,
          89,
          108,
          97,
          100,
          109,
          120,
          103,
          113,
          97,
          120,
          111,
          127,
          113,
          107,
          133,
          94,
          107,
          103,
          89
         ],
         "yaxis": "y2"
        }
       ],
       "layout": {
        "annotations": [
         {
          "font": {
           "size": 16
          },
          "showarrow": false,
          "text": "Golden State Warriors",
          "x": 0.225,
          "xanchor": "center",
          "xref": "paper",
          "y": 1,
          "yanchor": "bottom",
          "yref": "paper"
         },
         {
          "font": {
           "size": 16
          },
          "showarrow": false,
          "text": "Denver Nuggets",
          "x": 0.775,
          "xanchor": "center",
          "xref": "paper",
          "y": 1,
          "yanchor": "bottom",
          "yref": "paper"
         }
        ],
        "template": {
         "data": {
          "bar": [
           {
            "error_x": {
             "color": "#2a3f5f"
            },
            "error_y": {
             "color": "#2a3f5f"
            },
            "marker": {
             "line": {
              "color": "#E5ECF6",
              "width": 0.5
             },
             "pattern": {
              "fillmode": "overlay",
              "size": 10,
              "solidity": 0.2
             }
            },
            "type": "bar"
           }
          ],
          "barpolar": [
           {
            "marker": {
             "line": {
              "color": "#E5ECF6",
              "width": 0.5
             },
             "pattern": {
              "fillmode": "overlay",
              "size": 10,
              "solidity": 0.2
             }
            },
            "type": "barpolar"
           }
          ],
          "carpet": [
           {
            "aaxis": {
             "endlinecolor": "#2a3f5f",
             "gridcolor": "white",
             "linecolor": "white",
             "minorgridcolor": "white",
             "startlinecolor": "#2a3f5f"
            },
            "baxis": {
             "endlinecolor": "#2a3f5f",
             "gridcolor": "white",
             "linecolor": "white",
             "minorgridcolor": "white",
             "startlinecolor": "#2a3f5f"
            },
            "type": "carpet"
           }
          ],
          "choropleth": [
           {
            "colorbar": {
             "outlinewidth": 0,
             "ticks": ""
            },
            "type": "choropleth"
           }
          ],
          "contour": [
           {
            "colorbar": {
             "outlinewidth": 0,
             "ticks": ""
            },
            "colorscale": [
             [
              0,
              "#0d0887"
             ],
             [
              0.1111111111111111,
              "#46039f"
             ],
             [
              0.2222222222222222,
              "#7201a8"
             ],
             [
              0.3333333333333333,
              "#9c179e"
             ],
             [
              0.4444444444444444,
              "#bd3786"
             ],
             [
              0.5555555555555556,
              "#d8576b"
             ],
             [
              0.6666666666666666,
              "#ed7953"
             ],
             [
              0.7777777777777778,
              "#fb9f3a"
             ],
             [
              0.8888888888888888,
              "#fdca26"
             ],
             [
              1,
              "#f0f921"
             ]
            ],
            "type": "contour"
           }
          ],
          "contourcarpet": [
           {
            "colorbar": {
             "outlinewidth": 0,
             "ticks": ""
            },
            "type": "contourcarpet"
           }
          ],
          "heatmap": [
           {
            "colorbar": {
             "outlinewidth": 0,
             "ticks": ""
            },
            "colorscale": [
             [
              0,
              "#0d0887"
             ],
             [
              0.1111111111111111,
              "#46039f"
             ],
             [
              0.2222222222222222,
              "#7201a8"
             ],
             [
              0.3333333333333333,
              "#9c179e"
             ],
             [
              0.4444444444444444,
              "#bd3786"
             ],
             [
              0.5555555555555556,
              "#d8576b"
             ],
             [
              0.6666666666666666,
              "#ed7953"
             ],
             [
              0.7777777777777778,
              "#fb9f3a"
             ],
             [
              0.8888888888888888,
              "#fdca26"
             ],
             [
              1,
              "#f0f921"
             ]
            ],
            "type": "heatmap"
           }
          ],
          "heatmapgl": [
           {
            "colorbar": {
             "outlinewidth": 0,
             "ticks": ""
            },
            "colorscale": [
             [
              0,
              "#0d0887"
             ],
             [
              0.1111111111111111,
              "#46039f"
             ],
             [
              0.2222222222222222,
              "#7201a8"
             ],
             [
              0.3333333333333333,
              "#9c179e"
             ],
             [
              0.4444444444444444,
              "#bd3786"
             ],
             [
              0.5555555555555556,
              "#d8576b"
             ],
             [
              0.6666666666666666,
              "#ed7953"
             ],
             [
              0.7777777777777778,
              "#fb9f3a"
             ],
             [
              0.8888888888888888,
              "#fdca26"
             ],
             [
              1,
              "#f0f921"
             ]
            ],
            "type": "heatmapgl"
           }
          ],
          "histogram": [
           {
            "marker": {
             "pattern": {
              "fillmode": "overlay",
              "size": 10,
              "solidity": 0.2
             }
            },
            "type": "histogram"
           }
          ],
          "histogram2d": [
           {
            "colorbar": {
             "outlinewidth": 0,
             "ticks": ""
            },
            "colorscale": [
             [
              0,
              "#0d0887"
             ],
             [
              0.1111111111111111,
              "#46039f"
             ],
             [
              0.2222222222222222,
              "#7201a8"
             ],
             [
              0.3333333333333333,
              "#9c179e"
             ],
             [
              0.4444444444444444,
              "#bd3786"
             ],
             [
              0.5555555555555556,
              "#d8576b"
             ],
             [
              0.6666666666666666,
              "#ed7953"
             ],
             [
              0.7777777777777778,
              "#fb9f3a"
             ],
             [
              0.8888888888888888,
              "#fdca26"
             ],
             [
              1,
              "#f0f921"
             ]
            ],
            "type": "histogram2d"
           }
          ],
          "histogram2dcontour": [
           {
            "colorbar": {
             "outlinewidth": 0,
             "ticks": ""
            },
            "colorscale": [
             [
              0,
              "#0d0887"
             ],
             [
              0.1111111111111111,
              "#46039f"
             ],
             [
              0.2222222222222222,
              "#7201a8"
             ],
             [
              0.3333333333333333,
              "#9c179e"
             ],
             [
              0.4444444444444444,
              "#bd3786"
             ],
             [
              0.5555555555555556,
              "#d8576b"
             ],
             [
              0.6666666666666666,
              "#ed7953"
             ],
             [
              0.7777777777777778,
              "#fb9f3a"
             ],
             [
              0.8888888888888888,
              "#fdca26"
             ],
             [
              1,
              "#f0f921"
             ]
            ],
            "type": "histogram2dcontour"
           }
          ],
          "mesh3d": [
           {
            "colorbar": {
             "outlinewidth": 0,
             "ticks": ""
            },
            "type": "mesh3d"
           }
          ],
          "parcoords": [
           {
            "line": {
             "colorbar": {
              "outlinewidth": 0,
              "ticks": ""
             }
            },
            "type": "parcoords"
           }
          ],
          "pie": [
           {
            "automargin": true,
            "type": "pie"
           }
          ],
          "scatter": [
           {
            "marker": {
             "colorbar": {
              "outlinewidth": 0,
              "ticks": ""
             }
            },
            "type": "scatter"
           }
          ],
          "scatter3d": [
           {
            "line": {
             "colorbar": {
              "outlinewidth": 0,
              "ticks": ""
             }
            },
            "marker": {
             "colorbar": {
              "outlinewidth": 0,
              "ticks": ""
             }
            },
            "type": "scatter3d"
           }
          ],
          "scattercarpet": [
           {
            "marker": {
             "colorbar": {
              "outlinewidth": 0,
              "ticks": ""
             }
            },
            "type": "scattercarpet"
           }
          ],
          "scattergeo": [
           {
            "marker": {
             "colorbar": {
              "outlinewidth": 0,
              "ticks": ""
             }
            },
            "type": "scattergeo"
           }
          ],
          "scattergl": [
           {
            "marker": {
             "colorbar": {
              "outlinewidth": 0,
              "ticks": ""
             }
            },
            "type": "scattergl"
           }
          ],
          "scattermapbox": [
           {
            "marker": {
             "colorbar": {
              "outlinewidth": 0,
              "ticks": ""
             }
            },
            "type": "scattermapbox"
           }
          ],
          "scatterpolar": [
           {
            "marker": {
             "colorbar": {
              "outlinewidth": 0,
              "ticks": ""
             }
            },
            "type": "scatterpolar"
           }
          ],
          "scatterpolargl": [
           {
            "marker": {
             "colorbar": {
              "outlinewidth": 0,
              "ticks": ""
             }
            },
            "type": "scatterpolargl"
           }
          ],
          "scatterternary": [
           {
            "marker": {
             "colorbar": {
              "outlinewidth": 0,
              "ticks": ""
             }
            },
            "type": "scatterternary"
           }
          ],
          "surface": [
           {
            "colorbar": {
             "outlinewidth": 0,
             "ticks": ""
            },
            "colorscale": [
             [
              0,
              "#0d0887"
             ],
             [
              0.1111111111111111,
              "#46039f"
             ],
             [
              0.2222222222222222,
              "#7201a8"
             ],
             [
              0.3333333333333333,
              "#9c179e"
             ],
             [
              0.4444444444444444,
              "#bd3786"
             ],
             [
              0.5555555555555556,
              "#d8576b"
             ],
             [
              0.6666666666666666,
              "#ed7953"
             ],
             [
              0.7777777777777778,
              "#fb9f3a"
             ],
             [
              0.8888888888888888,
              "#fdca26"
             ],
             [
              1,
              "#f0f921"
             ]
            ],
            "type": "surface"
           }
          ],
          "table": [
           {
            "cells": {
             "fill": {
              "color": "#EBF0F8"
             },
             "line": {
              "color": "white"
             }
            },
            "header": {
             "fill": {
              "color": "#C8D4E3"
             },
             "line": {
              "color": "white"
             }
            },
            "type": "table"
           }
          ]
         },
         "layout": {
          "annotationdefaults": {
           "arrowcolor": "#2a3f5f",
           "arrowhead": 0,
           "arrowwidth": 1
          },
          "autotypenumbers": "strict",
          "coloraxis": {
           "colorbar": {
            "outlinewidth": 0,
            "ticks": ""
           }
          },
          "colorscale": {
           "diverging": [
            [
             0,
             "#8e0152"
            ],
            [
             0.1,
             "#c51b7d"
            ],
            [
             0.2,
             "#de77ae"
            ],
            [
             0.3,
             "#f1b6da"
            ],
            [
             0.4,
             "#fde0ef"
            ],
            [
             0.5,
             "#f7f7f7"
            ],
            [
             0.6,
             "#e6f5d0"
            ],
            [
             0.7,
             "#b8e186"
            ],
            [
             0.8,
             "#7fbc41"
            ],
            [
             0.9,
             "#4d9221"
            ],
            [
             1,
             "#276419"
            ]
           ],
           "sequential": [
            [
             0,
             "#0d0887"
            ],
            [
             0.1111111111111111,
             "#46039f"
            ],
            [
             0.2222222222222222,
             "#7201a8"
            ],
            [
             0.3333333333333333,
             "#9c179e"
            ],
            [
             0.4444444444444444,
             "#bd3786"
            ],
            [
             0.5555555555555556,
             "#d8576b"
            ],
            [
             0.6666666666666666,
             "#ed7953"
            ],
            [
             0.7777777777777778,
             "#fb9f3a"
            ],
            [
             0.8888888888888888,
             "#fdca26"
            ],
            [
             1,
             "#f0f921"
            ]
           ],
           "sequentialminus": [
            [
             0,
             "#0d0887"
            ],
            [
             0.1111111111111111,
             "#46039f"
            ],
            [
             0.2222222222222222,
             "#7201a8"
            ],
            [
             0.3333333333333333,
             "#9c179e"
            ],
            [
             0.4444444444444444,
             "#bd3786"
            ],
            [
             0.5555555555555556,
             "#d8576b"
            ],
            [
             0.6666666666666666,
             "#ed7953"
            ],
            [
             0.7777777777777778,
             "#fb9f3a"
            ],
            [
             0.8888888888888888,
             "#fdca26"
            ],
            [
             1,
             "#f0f921"
            ]
           ]
          },
          "colorway": [
           "#636efa",
           "#EF553B",
           "#00cc96",
           "#ab63fa",
           "#FFA15A",
           "#19d3f3",
           "#FF6692",
           "#B6E880",
           "#FF97FF",
           "#FECB52"
          ],
          "font": {
           "color": "#2a3f5f"
          },
          "geo": {
           "bgcolor": "white",
           "lakecolor": "white",
           "landcolor": "#E5ECF6",
           "showlakes": true,
           "showland": true,
           "subunitcolor": "white"
          },
          "hoverlabel": {
           "align": "left"
          },
          "hovermode": "closest",
          "mapbox": {
           "style": "light"
          },
          "paper_bgcolor": "white",
          "plot_bgcolor": "#E5ECF6",
          "polar": {
           "angularaxis": {
            "gridcolor": "white",
            "linecolor": "white",
            "ticks": ""
           },
           "bgcolor": "#E5ECF6",
           "radialaxis": {
            "gridcolor": "white",
            "linecolor": "white",
            "ticks": ""
           }
          },
          "scene": {
           "xaxis": {
            "backgroundcolor": "#E5ECF6",
            "gridcolor": "white",
            "gridwidth": 2,
            "linecolor": "white",
            "showbackground": true,
            "ticks": "",
            "zerolinecolor": "white"
           },
           "yaxis": {
            "backgroundcolor": "#E5ECF6",
            "gridcolor": "white",
            "gridwidth": 2,
            "linecolor": "white",
            "showbackground": true,
            "ticks": "",
            "zerolinecolor": "white"
           },
           "zaxis": {
            "backgroundcolor": "#E5ECF6",
            "gridcolor": "white",
            "gridwidth": 2,
            "linecolor": "white",
            "showbackground": true,
            "ticks": "",
            "zerolinecolor": "white"
           }
          },
          "shapedefaults": {
           "line": {
            "color": "#2a3f5f"
           }
          },
          "ternary": {
           "aaxis": {
            "gridcolor": "white",
            "linecolor": "white",
            "ticks": ""
           },
           "baxis": {
            "gridcolor": "white",
            "linecolor": "white",
            "ticks": ""
           },
           "bgcolor": "#E5ECF6",
           "caxis": {
            "gridcolor": "white",
            "linecolor": "white",
            "ticks": ""
           }
          },
          "title": {
           "x": 0.05
          },
          "xaxis": {
           "automargin": true,
           "gridcolor": "white",
           "linecolor": "white",
           "ticks": "",
           "title": {
            "standoff": 15
           },
           "zerolinecolor": "white",
           "zerolinewidth": 2
          },
          "yaxis": {
           "automargin": true,
           "gridcolor": "white",
           "linecolor": "white",
           "ticks": "",
           "title": {
            "standoff": 15
           },
           "zerolinecolor": "white",
           "zerolinewidth": 2
          }
         }
        },
        "title": {
         "text": "Comparasion of Golden State Warriors and Denver Nuggets scored points from this season with boxplot."
        },
        "xaxis": {
         "anchor": "y",
         "domain": [
          0,
          0.45
         ]
        },
        "xaxis2": {
         "anchor": "y2",
         "domain": [
          0.55,
          1
         ]
        },
        "yaxis": {
         "anchor": "x",
         "domain": [
          0,
          1
         ]
        },
        "yaxis2": {
         "anchor": "x2",
         "domain": [
          0,
          1
         ],
         "matches": "y",
         "showticklabels": false
        }
       }
      }
     },
     "metadata": {},
     "output_type": "display_data"
    }
   ],
   "source": [
    "methods.make_hist_subplot(log_1,log_2,team_1,team_2,'PTS')"
   ]
  },
  {
   "cell_type": "code",
   "execution_count": 38,
   "metadata": {},
   "outputs": [],
   "source": [
    "log_1['MATCHUP'] = methods.clean_matchup(log_1)\n",
    "log_2['MATCHUP'] = methods.clean_matchup(log_2)"
   ]
  },
  {
   "cell_type": "code",
   "execution_count": 39,
   "metadata": {},
   "outputs": [],
   "source": [
    "log_1_by_opponents = methods.scores_by_opponent(log_1)\n",
    "log_2_by_opponents = methods.scores_by_opponent(log_2)"
   ]
  },
  {
   "cell_type": "code",
   "execution_count": 40,
   "metadata": {},
   "outputs": [
    {
     "data": {
      "text/html": [
       "<style type=\"text/css\">\n",
       "</style>\n",
       "<table id=\"T_ed39b_\" style='display:inline'>\n",
       "  <caption>df1</caption>\n",
       "  <thead>\n",
       "    <tr>\n",
       "      <th class=\"blank level0\" >&nbsp;</th>\n",
       "      <th class=\"col_heading level0 col0\" >count</th>\n",
       "      <th class=\"col_heading level0 col1\" >min</th>\n",
       "      <th class=\"col_heading level0 col2\" >max</th>\n",
       "      <th class=\"col_heading level0 col3\" >mean</th>\n",
       "      <th class=\"col_heading level0 col4\" >median</th>\n",
       "    </tr>\n",
       "    <tr>\n",
       "      <th class=\"index_name level0\" >MATCHUP</th>\n",
       "      <th class=\"blank col0\" >&nbsp;</th>\n",
       "      <th class=\"blank col1\" >&nbsp;</th>\n",
       "      <th class=\"blank col2\" >&nbsp;</th>\n",
       "      <th class=\"blank col3\" >&nbsp;</th>\n",
       "      <th class=\"blank col4\" >&nbsp;</th>\n",
       "    </tr>\n",
       "  </thead>\n",
       "  <tbody>\n",
       "    <tr>\n",
       "      <th id=\"T_ed39b_level0_row0\" class=\"row_heading level0 row0\" >ATL</th>\n",
       "      <td id=\"T_ed39b_row0_col0\" class=\"data row0 col0\" >1</td>\n",
       "      <td id=\"T_ed39b_row0_col1\" class=\"data row0 col1\" >127</td>\n",
       "      <td id=\"T_ed39b_row0_col2\" class=\"data row0 col2\" >127</td>\n",
       "      <td id=\"T_ed39b_row0_col3\" class=\"data row0 col3\" >127.000000</td>\n",
       "      <td id=\"T_ed39b_row0_col4\" class=\"data row0 col4\" >127.000000</td>\n",
       "    </tr>\n",
       "    <tr>\n",
       "      <th id=\"T_ed39b_level0_row1\" class=\"row_heading level0 row1\" >BKN</th>\n",
       "      <td id=\"T_ed39b_row1_col0\" class=\"data row1 col0\" >1</td>\n",
       "      <td id=\"T_ed39b_row1_col1\" class=\"data row1 col1\" >117</td>\n",
       "      <td id=\"T_ed39b_row1_col2\" class=\"data row1 col2\" >117</td>\n",
       "      <td id=\"T_ed39b_row1_col3\" class=\"data row1 col3\" >117.000000</td>\n",
       "      <td id=\"T_ed39b_row1_col4\" class=\"data row1 col4\" >117.000000</td>\n",
       "    </tr>\n",
       "    <tr>\n",
       "      <th id=\"T_ed39b_level0_row2\" class=\"row_heading level0 row2\" >BOS</th>\n",
       "      <td id=\"T_ed39b_row2_col0\" class=\"data row2 col0\" >1</td>\n",
       "      <td id=\"T_ed39b_row2_col1\" class=\"data row2 col1\" >111</td>\n",
       "      <td id=\"T_ed39b_row2_col2\" class=\"data row2 col2\" >111</td>\n",
       "      <td id=\"T_ed39b_row2_col3\" class=\"data row2 col3\" >111.000000</td>\n",
       "      <td id=\"T_ed39b_row2_col4\" class=\"data row2 col4\" >111.000000</td>\n",
       "    </tr>\n",
       "    <tr>\n",
       "      <th id=\"T_ed39b_level0_row3\" class=\"row_heading level0 row3\" >CHA</th>\n",
       "      <td id=\"T_ed39b_row3_col0\" class=\"data row3 col0\" >2</td>\n",
       "      <td id=\"T_ed39b_row3_col1\" class=\"data row3 col1\" >102</td>\n",
       "      <td id=\"T_ed39b_row3_col2\" class=\"data row3 col2\" >114</td>\n",
       "      <td id=\"T_ed39b_row3_col3\" class=\"data row3 col3\" >108.000000</td>\n",
       "      <td id=\"T_ed39b_row3_col4\" class=\"data row3 col4\" >108.000000</td>\n",
       "    </tr>\n",
       "    <tr>\n",
       "      <th id=\"T_ed39b_level0_row4\" class=\"row_heading level0 row4\" >CHI</th>\n",
       "      <td id=\"T_ed39b_row4_col0\" class=\"data row4 col0\" >1</td>\n",
       "      <td id=\"T_ed39b_row4_col1\" class=\"data row4 col1\" >119</td>\n",
       "      <td id=\"T_ed39b_row4_col2\" class=\"data row4 col2\" >119</td>\n",
       "      <td id=\"T_ed39b_row4_col3\" class=\"data row4 col3\" >119.000000</td>\n",
       "      <td id=\"T_ed39b_row4_col4\" class=\"data row4 col4\" >119.000000</td>\n",
       "    </tr>\n",
       "    <tr>\n",
       "      <th id=\"T_ed39b_level0_row5\" class=\"row_heading level0 row5\" >CLE</th>\n",
       "      <td id=\"T_ed39b_row5_col0\" class=\"data row5 col0\" >1</td>\n",
       "      <td id=\"T_ed39b_row5_col1\" class=\"data row5 col1\" >104</td>\n",
       "      <td id=\"T_ed39b_row5_col2\" class=\"data row5 col2\" >104</td>\n",
       "      <td id=\"T_ed39b_row5_col3\" class=\"data row5 col3\" >104.000000</td>\n",
       "      <td id=\"T_ed39b_row5_col4\" class=\"data row5 col4\" >104.000000</td>\n",
       "    </tr>\n",
       "    <tr>\n",
       "      <th id=\"T_ed39b_level0_row6\" class=\"row_heading level0 row6\" >DEN</th>\n",
       "      <td id=\"T_ed39b_row6_col0\" class=\"data row6 col0\" >1</td>\n",
       "      <td id=\"T_ed39b_row6_col1\" class=\"data row6 col1\" >86</td>\n",
       "      <td id=\"T_ed39b_row6_col2\" class=\"data row6 col2\" >86</td>\n",
       "      <td id=\"T_ed39b_row6_col3\" class=\"data row6 col3\" >86.000000</td>\n",
       "      <td id=\"T_ed39b_row6_col4\" class=\"data row6 col4\" >86.000000</td>\n",
       "    </tr>\n",
       "    <tr>\n",
       "      <th id=\"T_ed39b_level0_row7\" class=\"row_heading level0 row7\" >DET</th>\n",
       "      <td id=\"T_ed39b_row7_col0\" class=\"data row7 col0\" >1</td>\n",
       "      <td id=\"T_ed39b_row7_col1\" class=\"data row7 col1\" >105</td>\n",
       "      <td id=\"T_ed39b_row7_col2\" class=\"data row7 col2\" >105</td>\n",
       "      <td id=\"T_ed39b_row7_col3\" class=\"data row7 col3\" >105.000000</td>\n",
       "      <td id=\"T_ed39b_row7_col4\" class=\"data row7 col4\" >105.000000</td>\n",
       "    </tr>\n",
       "    <tr>\n",
       "      <th id=\"T_ed39b_level0_row8\" class=\"row_heading level0 row8\" >HOU</th>\n",
       "      <td id=\"T_ed39b_row8_col0\" class=\"data row8 col0\" >1</td>\n",
       "      <td id=\"T_ed39b_row8_col1\" class=\"data row8 col1\" >120</td>\n",
       "      <td id=\"T_ed39b_row8_col2\" class=\"data row8 col2\" >120</td>\n",
       "      <td id=\"T_ed39b_row8_col3\" class=\"data row8 col3\" >120.000000</td>\n",
       "      <td id=\"T_ed39b_row8_col4\" class=\"data row8 col4\" >120.000000</td>\n",
       "    </tr>\n",
       "    <tr>\n",
       "      <th id=\"T_ed39b_level0_row9\" class=\"row_heading level0 row9\" >IND</th>\n",
       "      <td id=\"T_ed39b_row9_col0\" class=\"data row9 col0\" >1</td>\n",
       "      <td id=\"T_ed39b_row9_col1\" class=\"data row9 col1\" >102</td>\n",
       "      <td id=\"T_ed39b_row9_col2\" class=\"data row9 col2\" >102</td>\n",
       "      <td id=\"T_ed39b_row9_col3\" class=\"data row9 col3\" >102.000000</td>\n",
       "      <td id=\"T_ed39b_row9_col4\" class=\"data row9 col4\" >102.000000</td>\n",
       "    </tr>\n",
       "    <tr>\n",
       "      <th id=\"T_ed39b_level0_row10\" class=\"row_heading level0 row10\" >LAC</th>\n",
       "      <td id=\"T_ed39b_row10_col0\" class=\"data row10 col0\" >2</td>\n",
       "      <td id=\"T_ed39b_row10_col1\" class=\"data row10 col1\" >105</td>\n",
       "      <td id=\"T_ed39b_row10_col2\" class=\"data row10 col2\" >115</td>\n",
       "      <td id=\"T_ed39b_row10_col3\" class=\"data row10 col3\" >110.000000</td>\n",
       "      <td id=\"T_ed39b_row10_col4\" class=\"data row10 col4\" >110.000000</td>\n",
       "    </tr>\n",
       "    <tr>\n",
       "      <th id=\"T_ed39b_level0_row11\" class=\"row_heading level0 row11\" >LAL</th>\n",
       "      <td id=\"T_ed39b_row11_col0\" class=\"data row11 col0\" >1</td>\n",
       "      <td id=\"T_ed39b_row11_col1\" class=\"data row11 col1\" >121</td>\n",
       "      <td id=\"T_ed39b_row11_col2\" class=\"data row11 col2\" >121</td>\n",
       "      <td id=\"T_ed39b_row11_col3\" class=\"data row11 col3\" >121.000000</td>\n",
       "      <td id=\"T_ed39b_row11_col4\" class=\"data row11 col4\" >121.000000</td>\n",
       "    </tr>\n",
       "    <tr>\n",
       "      <th id=\"T_ed39b_level0_row12\" class=\"row_heading level0 row12\" >MEM</th>\n",
       "      <td id=\"T_ed39b_row12_col0\" class=\"data row12 col0\" >2</td>\n",
       "      <td id=\"T_ed39b_row12_col1\" class=\"data row12 col1\" >101</td>\n",
       "      <td id=\"T_ed39b_row12_col2\" class=\"data row12 col2\" >113</td>\n",
       "      <td id=\"T_ed39b_row12_col3\" class=\"data row12 col3\" >107.000000</td>\n",
       "      <td id=\"T_ed39b_row12_col4\" class=\"data row12 col4\" >107.000000</td>\n",
       "    </tr>\n",
       "    <tr>\n",
       "      <th id=\"T_ed39b_level0_row13\" class=\"row_heading level0 row13\" >MIN</th>\n",
       "      <td id=\"T_ed39b_row13_col0\" class=\"data row13 col0\" >1</td>\n",
       "      <td id=\"T_ed39b_row13_col1\" class=\"data row13 col1\" >123</td>\n",
       "      <td id=\"T_ed39b_row13_col2\" class=\"data row13 col2\" >123</td>\n",
       "      <td id=\"T_ed39b_row13_col3\" class=\"data row13 col3\" >123.000000</td>\n",
       "      <td id=\"T_ed39b_row13_col4\" class=\"data row13 col4\" >123.000000</td>\n",
       "    </tr>\n",
       "    <tr>\n",
       "      <th id=\"T_ed39b_level0_row14\" class=\"row_heading level0 row14\" >NOP</th>\n",
       "      <td id=\"T_ed39b_row14_col0\" class=\"data row14 col0\" >1</td>\n",
       "      <td id=\"T_ed39b_row14_col1\" class=\"data row14 col1\" >126</td>\n",
       "      <td id=\"T_ed39b_row14_col2\" class=\"data row14 col2\" >126</td>\n",
       "      <td id=\"T_ed39b_row14_col3\" class=\"data row14 col3\" >126.000000</td>\n",
       "      <td id=\"T_ed39b_row14_col4\" class=\"data row14 col4\" >126.000000</td>\n",
       "    </tr>\n",
       "    <tr>\n",
       "      <th id=\"T_ed39b_level0_row15\" class=\"row_heading level0 row15\" >NYK</th>\n",
       "      <td id=\"T_ed39b_row15_col0\" class=\"data row15 col0\" >1</td>\n",
       "      <td id=\"T_ed39b_row15_col1\" class=\"data row15 col1\" >105</td>\n",
       "      <td id=\"T_ed39b_row15_col2\" class=\"data row15 col2\" >105</td>\n",
       "      <td id=\"T_ed39b_row15_col3\" class=\"data row15 col3\" >105.000000</td>\n",
       "      <td id=\"T_ed39b_row15_col4\" class=\"data row15 col4\" >105.000000</td>\n",
       "    </tr>\n",
       "    <tr>\n",
       "      <th id=\"T_ed39b_level0_row16\" class=\"row_heading level0 row16\" >OKC</th>\n",
       "      <td id=\"T_ed39b_row16_col0\" class=\"data row16 col0\" >2</td>\n",
       "      <td id=\"T_ed39b_row16_col1\" class=\"data row16 col1\" >103</td>\n",
       "      <td id=\"T_ed39b_row16_col2\" class=\"data row16 col2\" >106</td>\n",
       "      <td id=\"T_ed39b_row16_col3\" class=\"data row16 col3\" >104.500000</td>\n",
       "      <td id=\"T_ed39b_row16_col4\" class=\"data row16 col4\" >104.500000</td>\n",
       "    </tr>\n",
       "    <tr>\n",
       "      <th id=\"T_ed39b_level0_row17\" class=\"row_heading level0 row17\" >ORL</th>\n",
       "      <td id=\"T_ed39b_row17_col0\" class=\"data row17 col0\" >1</td>\n",
       "      <td id=\"T_ed39b_row17_col1\" class=\"data row17 col1\" >126</td>\n",
       "      <td id=\"T_ed39b_row17_col2\" class=\"data row17 col2\" >126</td>\n",
       "      <td id=\"T_ed39b_row17_col3\" class=\"data row17 col3\" >126.000000</td>\n",
       "      <td id=\"T_ed39b_row17_col4\" class=\"data row17 col4\" >126.000000</td>\n",
       "    </tr>\n",
       "    <tr>\n",
       "      <th id=\"T_ed39b_level0_row18\" class=\"row_heading level0 row18\" >PHI</th>\n",
       "      <td id=\"T_ed39b_row18_col0\" class=\"data row18 col0\" >2</td>\n",
       "      <td id=\"T_ed39b_row18_col1\" class=\"data row18 col1\" >93</td>\n",
       "      <td id=\"T_ed39b_row18_col2\" class=\"data row18 col2\" >116</td>\n",
       "      <td id=\"T_ed39b_row18_col3\" class=\"data row18 col3\" >104.500000</td>\n",
       "      <td id=\"T_ed39b_row18_col4\" class=\"data row18 col4\" >104.500000</td>\n",
       "    </tr>\n",
       "    <tr>\n",
       "      <th id=\"T_ed39b_level0_row19\" class=\"row_heading level0 row19\" >PHX</th>\n",
       "      <td id=\"T_ed39b_row19_col0\" class=\"data row19 col0\" >3</td>\n",
       "      <td id=\"T_ed39b_row19_col1\" class=\"data row19 col1\" >96</td>\n",
       "      <td id=\"T_ed39b_row19_col2\" class=\"data row19 col2\" >118</td>\n",
       "      <td id=\"T_ed39b_row19_col3\" class=\"data row19 col3\" >110.000000</td>\n",
       "      <td id=\"T_ed39b_row19_col4\" class=\"data row19 col4\" >116.000000</td>\n",
       "    </tr>\n",
       "    <tr>\n",
       "      <th id=\"T_ed39b_level0_row20\" class=\"row_heading level0 row20\" >POR</th>\n",
       "      <td id=\"T_ed39b_row20_col0\" class=\"data row20 col0\" >2</td>\n",
       "      <td id=\"T_ed39b_row20_col1\" class=\"data row20 col1\" >104</td>\n",
       "      <td id=\"T_ed39b_row20_col2\" class=\"data row20 col2\" >118</td>\n",
       "      <td id=\"T_ed39b_row20_col3\" class=\"data row20 col3\" >111.000000</td>\n",
       "      <td id=\"T_ed39b_row20_col4\" class=\"data row20 col4\" >111.000000</td>\n",
       "    </tr>\n",
       "    <tr>\n",
       "      <th id=\"T_ed39b_level0_row21\" class=\"row_heading level0 row21\" >SAC</th>\n",
       "      <td id=\"T_ed39b_row21_col0\" class=\"data row21 col0\" >2</td>\n",
       "      <td id=\"T_ed39b_row21_col1\" class=\"data row21 col1\" >113</td>\n",
       "      <td id=\"T_ed39b_row21_col2\" class=\"data row21 col2\" >119</td>\n",
       "      <td id=\"T_ed39b_row21_col3\" class=\"data row21 col3\" >116.000000</td>\n",
       "      <td id=\"T_ed39b_row21_col4\" class=\"data row21 col4\" >116.000000</td>\n",
       "    </tr>\n",
       "    <tr>\n",
       "      <th id=\"T_ed39b_level0_row22\" class=\"row_heading level0 row22\" >SAS</th>\n",
       "      <td id=\"T_ed39b_row22_col0\" class=\"data row22 col0\" >1</td>\n",
       "      <td id=\"T_ed39b_row22_col1\" class=\"data row22 col1\" >107</td>\n",
       "      <td id=\"T_ed39b_row22_col2\" class=\"data row22 col2\" >107</td>\n",
       "      <td id=\"T_ed39b_row22_col3\" class=\"data row22 col3\" >107.000000</td>\n",
       "      <td id=\"T_ed39b_row22_col4\" class=\"data row22 col4\" >107.000000</td>\n",
       "    </tr>\n",
       "    <tr>\n",
       "      <th id=\"T_ed39b_level0_row23\" class=\"row_heading level0 row23\" >TOR</th>\n",
       "      <td id=\"T_ed39b_row23_col0\" class=\"data row23 col0\" >2</td>\n",
       "      <td id=\"T_ed39b_row23_col1\" class=\"data row23 col1\" >100</td>\n",
       "      <td id=\"T_ed39b_row23_col2\" class=\"data row23 col2\" >119</td>\n",
       "      <td id=\"T_ed39b_row23_col3\" class=\"data row23 col3\" >109.500000</td>\n",
       "      <td id=\"T_ed39b_row23_col4\" class=\"data row23 col4\" >109.500000</td>\n",
       "    </tr>\n",
       "  </tbody>\n",
       "</table>\n",
       "<style type=\"text/css\">\n",
       "</style>\n",
       "<table id=\"T_92139_\" style='display:inline'>\n",
       "  <caption>df2</caption>\n",
       "  <thead>\n",
       "    <tr>\n",
       "      <th class=\"blank level0\" >&nbsp;</th>\n",
       "      <th class=\"col_heading level0 col0\" >count</th>\n",
       "      <th class=\"col_heading level0 col1\" >min</th>\n",
       "      <th class=\"col_heading level0 col2\" >max</th>\n",
       "      <th class=\"col_heading level0 col3\" >mean</th>\n",
       "      <th class=\"col_heading level0 col4\" >median</th>\n",
       "    </tr>\n",
       "    <tr>\n",
       "      <th class=\"index_name level0\" >MATCHUP</th>\n",
       "      <th class=\"blank col0\" >&nbsp;</th>\n",
       "      <th class=\"blank col1\" >&nbsp;</th>\n",
       "      <th class=\"blank col2\" >&nbsp;</th>\n",
       "      <th class=\"blank col3\" >&nbsp;</th>\n",
       "      <th class=\"blank col4\" >&nbsp;</th>\n",
       "    </tr>\n",
       "  </thead>\n",
       "  <tbody>\n",
       "    <tr>\n",
       "      <th id=\"T_92139_level0_row0\" class=\"row_heading level0 row0\" >ATL</th>\n",
       "      <td id=\"T_92139_row0_col0\" class=\"data row0 col0\" >2</td>\n",
       "      <td id=\"T_92139_row0_col1\" class=\"data row0 col1\" >105</td>\n",
       "      <td id=\"T_92139_row0_col2\" class=\"data row0 col2\" >133</td>\n",
       "      <td id=\"T_92139_row0_col3\" class=\"data row0 col3\" >119.000000</td>\n",
       "      <td id=\"T_92139_row0_col4\" class=\"data row0 col4\" >119.000000</td>\n",
       "    </tr>\n",
       "    <tr>\n",
       "      <th id=\"T_92139_level0_row1\" class=\"row_heading level0 row1\" >CHA</th>\n",
       "      <td id=\"T_92139_row1_col0\" class=\"data row1 col0\" >1</td>\n",
       "      <td id=\"T_92139_row1_col1\" class=\"data row1 col1\" >107</td>\n",
       "      <td id=\"T_92139_row1_col2\" class=\"data row1 col2\" >107</td>\n",
       "      <td id=\"T_92139_row1_col3\" class=\"data row1 col3\" >107.000000</td>\n",
       "      <td id=\"T_92139_row1_col4\" class=\"data row1 col4\" >107.000000</td>\n",
       "    </tr>\n",
       "    <tr>\n",
       "      <th id=\"T_92139_level0_row2\" class=\"row_heading level0 row2\" >CHI</th>\n",
       "      <td id=\"T_92139_row2_col0\" class=\"data row2 col0\" >2</td>\n",
       "      <td id=\"T_92139_row2_col1\" class=\"data row2 col1\" >97</td>\n",
       "      <td id=\"T_92139_row2_col2\" class=\"data row2 col2\" >108</td>\n",
       "      <td id=\"T_92139_row2_col3\" class=\"data row2 col3\" >102.500000</td>\n",
       "      <td id=\"T_92139_row2_col4\" class=\"data row2 col4\" >102.500000</td>\n",
       "    </tr>\n",
       "    <tr>\n",
       "      <th id=\"T_92139_level0_row3\" class=\"row_heading level0 row3\" >CLE</th>\n",
       "      <td id=\"T_92139_row3_col0\" class=\"data row3 col0\" >1</td>\n",
       "      <td id=\"T_92139_row3_col1\" class=\"data row3 col1\" >87</td>\n",
       "      <td id=\"T_92139_row3_col2\" class=\"data row3 col2\" >87</td>\n",
       "      <td id=\"T_92139_row3_col3\" class=\"data row3 col3\" >87.000000</td>\n",
       "      <td id=\"T_92139_row3_col4\" class=\"data row3 col4\" >87.000000</td>\n",
       "    </tr>\n",
       "    <tr>\n",
       "      <th id=\"T_92139_level0_row4\" class=\"row_heading level0 row4\" >DAL</th>\n",
       "      <td id=\"T_92139_row4_col0\" class=\"data row4 col0\" >2</td>\n",
       "      <td id=\"T_92139_row4_col1\" class=\"data row4 col1\" >101</td>\n",
       "      <td id=\"T_92139_row4_col2\" class=\"data row4 col2\" >106</td>\n",
       "      <td id=\"T_92139_row4_col3\" class=\"data row4 col3\" >103.500000</td>\n",
       "      <td id=\"T_92139_row4_col4\" class=\"data row4 col4\" >103.500000</td>\n",
       "    </tr>\n",
       "    <tr>\n",
       "      <th id=\"T_92139_level0_row5\" class=\"row_heading level0 row5\" >GSW</th>\n",
       "      <td id=\"T_92139_row5_col0\" class=\"data row5 col0\" >1</td>\n",
       "      <td id=\"T_92139_row5_col1\" class=\"data row5 col1\" >89</td>\n",
       "      <td id=\"T_92139_row5_col2\" class=\"data row5 col2\" >89</td>\n",
       "      <td id=\"T_92139_row5_col3\" class=\"data row5 col3\" >89.000000</td>\n",
       "      <td id=\"T_92139_row5_col4\" class=\"data row5 col4\" >89.000000</td>\n",
       "    </tr>\n",
       "    <tr>\n",
       "      <th id=\"T_92139_level0_row6\" class=\"row_heading level0 row6\" >HOU</th>\n",
       "      <td id=\"T_92139_row6_col0\" class=\"data row6 col0\" >1</td>\n",
       "      <td id=\"T_92139_row6_col1\" class=\"data row6 col1\" >95</td>\n",
       "      <td id=\"T_92139_row6_col2\" class=\"data row6 col2\" >95</td>\n",
       "      <td id=\"T_92139_row6_col3\" class=\"data row6 col3\" >95.000000</td>\n",
       "      <td id=\"T_92139_row6_col4\" class=\"data row6 col4\" >95.000000</td>\n",
       "    </tr>\n",
       "    <tr>\n",
       "      <th id=\"T_92139_level0_row7\" class=\"row_heading level0 row7\" >IND</th>\n",
       "      <td id=\"T_92139_row7_col0\" class=\"data row7 col0\" >1</td>\n",
       "      <td id=\"T_92139_row7_col1\" class=\"data row7 col1\" >101</td>\n",
       "      <td id=\"T_92139_row7_col2\" class=\"data row7 col2\" >101</td>\n",
       "      <td id=\"T_92139_row7_col3\" class=\"data row7 col3\" >101.000000</td>\n",
       "      <td id=\"T_92139_row7_col4\" class=\"data row7 col4\" >101.000000</td>\n",
       "    </tr>\n",
       "    <tr>\n",
       "      <th id=\"T_92139_level0_row8\" class=\"row_heading level0 row8\" >LAC</th>\n",
       "      <td id=\"T_92139_row8_col0\" class=\"data row8 col0\" >1</td>\n",
       "      <td id=\"T_92139_row8_col1\" class=\"data row8 col1\" >103</td>\n",
       "      <td id=\"T_92139_row8_col2\" class=\"data row8 col2\" >103</td>\n",
       "      <td id=\"T_92139_row8_col3\" class=\"data row8 col3\" >103.000000</td>\n",
       "      <td id=\"T_92139_row8_col4\" class=\"data row8 col4\" >103.000000</td>\n",
       "    </tr>\n",
       "    <tr>\n",
       "      <th id=\"T_92139_level0_row9\" class=\"row_heading level0 row9\" >MEM</th>\n",
       "      <td id=\"T_92139_row9_col0\" class=\"data row9 col0\" >2</td>\n",
       "      <td id=\"T_92139_row9_col1\" class=\"data row9 col1\" >97</td>\n",
       "      <td id=\"T_92139_row9_col2\" class=\"data row9 col2\" >106</td>\n",
       "      <td id=\"T_92139_row9_col3\" class=\"data row9 col3\" >101.500000</td>\n",
       "      <td id=\"T_92139_row9_col4\" class=\"data row9 col4\" >101.500000</td>\n",
       "    </tr>\n",
       "    <tr>\n",
       "      <th id=\"T_92139_level0_row10\" class=\"row_heading level0 row10\" >MIA</th>\n",
       "      <td id=\"T_92139_row10_col0\" class=\"data row10 col0\" >2</td>\n",
       "      <td id=\"T_92139_row10_col1\" class=\"data row10 col1\" >113</td>\n",
       "      <td id=\"T_92139_row10_col2\" class=\"data row10 col2\" >120</td>\n",
       "      <td id=\"T_92139_row10_col3\" class=\"data row10 col3\" >116.500000</td>\n",
       "      <td id=\"T_92139_row10_col4\" class=\"data row10 col4\" >116.500000</td>\n",
       "    </tr>\n",
       "    <tr>\n",
       "      <th id=\"T_92139_level0_row11\" class=\"row_heading level0 row11\" >MIL</th>\n",
       "      <td id=\"T_92139_row11_col0\" class=\"data row11 col0\" >1</td>\n",
       "      <td id=\"T_92139_row11_col1\" class=\"data row11 col1\" >109</td>\n",
       "      <td id=\"T_92139_row11_col2\" class=\"data row11 col2\" >109</td>\n",
       "      <td id=\"T_92139_row11_col3\" class=\"data row11 col3\" >109.000000</td>\n",
       "      <td id=\"T_92139_row11_col4\" class=\"data row11 col4\" >109.000000</td>\n",
       "    </tr>\n",
       "    <tr>\n",
       "      <th id=\"T_92139_level0_row12\" class=\"row_heading level0 row12\" >MIN</th>\n",
       "      <td id=\"T_92139_row12_col0\" class=\"data row12 col0\" >2</td>\n",
       "      <td id=\"T_92139_row12_col1\" class=\"data row12 col1\" >93</td>\n",
       "      <td id=\"T_92139_row12_col2\" class=\"data row12 col2\" >107</td>\n",
       "      <td id=\"T_92139_row12_col3\" class=\"data row12 col3\" >100.000000</td>\n",
       "      <td id=\"T_92139_row12_col4\" class=\"data row12 col4\" >100.000000</td>\n",
       "    </tr>\n",
       "    <tr>\n",
       "      <th id=\"T_92139_level0_row13\" class=\"row_heading level0 row13\" >NOP</th>\n",
       "      <td id=\"T_92139_row13_col0\" class=\"data row13 col0\" >1</td>\n",
       "      <td id=\"T_92139_row13_col1\" class=\"data row13 col1\" >120</td>\n",
       "      <td id=\"T_92139_row13_col2\" class=\"data row13 col2\" >120</td>\n",
       "      <td id=\"T_92139_row13_col3\" class=\"data row13 col3\" >120.000000</td>\n",
       "      <td id=\"T_92139_row13_col4\" class=\"data row13 col4\" >120.000000</td>\n",
       "    </tr>\n",
       "    <tr>\n",
       "      <th id=\"T_92139_level0_row14\" class=\"row_heading level0 row14\" >NYK</th>\n",
       "      <td id=\"T_92139_row14_col0\" class=\"data row14 col0\" >1</td>\n",
       "      <td id=\"T_92139_row14_col1\" class=\"data row14 col1\" >113</td>\n",
       "      <td id=\"T_92139_row14_col2\" class=\"data row14 col2\" >113</td>\n",
       "      <td id=\"T_92139_row14_col3\" class=\"data row14 col3\" >113.000000</td>\n",
       "      <td id=\"T_92139_row14_col4\" class=\"data row14 col4\" >113.000000</td>\n",
       "    </tr>\n",
       "    <tr>\n",
       "      <th id=\"T_92139_level0_row15\" class=\"row_heading level0 row15\" >OKC</th>\n",
       "      <td id=\"T_92139_row15_col0\" class=\"data row15 col0\" >1</td>\n",
       "      <td id=\"T_92139_row15_col1\" class=\"data row15 col1\" >94</td>\n",
       "      <td id=\"T_92139_row15_col2\" class=\"data row15 col2\" >94</td>\n",
       "      <td id=\"T_92139_row15_col3\" class=\"data row15 col3\" >94.000000</td>\n",
       "      <td id=\"T_92139_row15_col4\" class=\"data row15 col4\" >94.000000</td>\n",
       "    </tr>\n",
       "    <tr>\n",
       "      <th id=\"T_92139_level0_row16\" class=\"row_heading level0 row16\" >ORL</th>\n",
       "      <td id=\"T_92139_row16_col0\" class=\"data row16 col0\" >1</td>\n",
       "      <td id=\"T_92139_row16_col1\" class=\"data row16 col1\" >103</td>\n",
       "      <td id=\"T_92139_row16_col2\" class=\"data row16 col2\" >103</td>\n",
       "      <td id=\"T_92139_row16_col3\" class=\"data row16 col3\" >103.000000</td>\n",
       "      <td id=\"T_92139_row16_col4\" class=\"data row16 col4\" >103.000000</td>\n",
       "    </tr>\n",
       "    <tr>\n",
       "      <th id=\"T_92139_level0_row17\" class=\"row_heading level0 row17\" >PHI</th>\n",
       "      <td id=\"T_92139_row17_col0\" class=\"data row17 col0\" >1</td>\n",
       "      <td id=\"T_92139_row17_col1\" class=\"data row17 col1\" >89</td>\n",
       "      <td id=\"T_92139_row17_col2\" class=\"data row17 col2\" >89</td>\n",
       "      <td id=\"T_92139_row17_col3\" class=\"data row17 col3\" >89.000000</td>\n",
       "      <td id=\"T_92139_row17_col4\" class=\"data row17 col4\" >89.000000</td>\n",
       "    </tr>\n",
       "    <tr>\n",
       "      <th id=\"T_92139_level0_row18\" class=\"row_heading level0 row18\" >PHX</th>\n",
       "      <td id=\"T_92139_row18_col0\" class=\"data row18 col0\" >2</td>\n",
       "      <td id=\"T_92139_row18_col1\" class=\"data row18 col1\" >97</td>\n",
       "      <td id=\"T_92139_row18_col2\" class=\"data row18 col2\" >110</td>\n",
       "      <td id=\"T_92139_row18_col3\" class=\"data row18 col3\" >103.500000</td>\n",
       "      <td id=\"T_92139_row18_col4\" class=\"data row18 col4\" >103.500000</td>\n",
       "    </tr>\n",
       "    <tr>\n",
       "      <th id=\"T_92139_level0_row19\" class=\"row_heading level0 row19\" >POR</th>\n",
       "      <td id=\"T_92139_row19_col0\" class=\"data row19 col0\" >2</td>\n",
       "      <td id=\"T_92139_row19_col1\" class=\"data row19 col1\" >100</td>\n",
       "      <td id=\"T_92139_row19_col2\" class=\"data row19 col2\" >124</td>\n",
       "      <td id=\"T_92139_row19_col3\" class=\"data row19 col3\" >112.000000</td>\n",
       "      <td id=\"T_92139_row19_col4\" class=\"data row19 col4\" >112.000000</td>\n",
       "    </tr>\n",
       "    <tr>\n",
       "      <th id=\"T_92139_level0_row20\" class=\"row_heading level0 row20\" >SAS</th>\n",
       "      <td id=\"T_92139_row20_col0\" class=\"data row20 col0\" >3</td>\n",
       "      <td id=\"T_92139_row20_col1\" class=\"data row20 col1\" >102</td>\n",
       "      <td id=\"T_92139_row20_col2\" class=\"data row20 col2\" >127</td>\n",
       "      <td id=\"T_92139_row20_col3\" class=\"data row20 col3\" >113.333333</td>\n",
       "      <td id=\"T_92139_row20_col4\" class=\"data row20 col4\" >111.000000</td>\n",
       "    </tr>\n",
       "    <tr>\n",
       "      <th id=\"T_92139_level0_row21\" class=\"row_heading level0 row21\" >UTA</th>\n",
       "      <td id=\"T_92139_row21_col0\" class=\"data row21 col0\" >1</td>\n",
       "      <td id=\"T_92139_row21_col1\" class=\"data row21 col1\" >110</td>\n",
       "      <td id=\"T_92139_row21_col2\" class=\"data row21 col2\" >110</td>\n",
       "      <td id=\"T_92139_row21_col3\" class=\"data row21 col3\" >110.000000</td>\n",
       "      <td id=\"T_92139_row21_col4\" class=\"data row21 col4\" >110.000000</td>\n",
       "    </tr>\n",
       "    <tr>\n",
       "      <th id=\"T_92139_level0_row22\" class=\"row_heading level0 row22\" >WAS</th>\n",
       "      <td id=\"T_92139_row22_col0\" class=\"data row22 col0\" >1</td>\n",
       "      <td id=\"T_92139_row22_col1\" class=\"data row22 col1\" >113</td>\n",
       "      <td id=\"T_92139_row22_col2\" class=\"data row22 col2\" >113</td>\n",
       "      <td id=\"T_92139_row22_col3\" class=\"data row22 col3\" >113.000000</td>\n",
       "      <td id=\"T_92139_row22_col4\" class=\"data row22 col4\" >113.000000</td>\n",
       "    </tr>\n",
       "  </tbody>\n",
       "</table>\n"
      ]
     },
     "metadata": {},
     "output_type": "display_data"
    }
   ],
   "source": [
    "from IPython.display import display_html \n",
    "\n",
    "\n",
    "df1_styler = log_1_by_opponents.style.set_table_attributes(\"style='display:inline'\").set_caption('df1')\n",
    "df2_styler = log_2_by_opponents.style.set_table_attributes(\"style='display:inline'\").set_caption('df2')\n",
    "df2_t_styler = log_2_by_opponents.T.style.set_table_attributes(\"style='display:inline'\").set_caption('df2_t')\n",
    "\n",
    "display_html(df1_styler._repr_html_()+df2_styler._repr_html_(), raw=True)\n",
    "# display_html(df1_styler._repr_html_()+df2_styler._repr_html_() +df2_t_styler._repr_html_(), raw=True)"
   ]
  },
  {
   "cell_type": "code",
   "execution_count": null,
   "metadata": {},
   "outputs": [],
   "source": []
  }
 ],
 "metadata": {
  "interpreter": {
   "hash": "0a672e6809f1de3c4983ec870b981d5a1be8899251ed1917ba5b59e133f6dd6c"
  },
  "kernelspec": {
   "display_name": "Python 3.9.1 64-bit ('prog_fileok-u0ABPTBr': pipenv)",
   "language": "python",
   "name": "python3"
  },
  "language_info": {
   "codemirror_mode": {
    "name": "ipython",
    "version": 3
   },
   "file_extension": ".py",
   "mimetype": "text/x-python",
   "name": "python",
   "nbconvert_exporter": "python",
   "pygments_lexer": "ipython3",
   "version": "3.9.1"
  },
  "orig_nbformat": 4
 },
 "nbformat": 4,
 "nbformat_minor": 2
}
